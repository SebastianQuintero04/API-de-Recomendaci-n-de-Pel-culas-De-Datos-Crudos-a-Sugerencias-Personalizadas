{
 "cells": [
  {
   "cell_type": "code",
   "execution_count": 1,
   "metadata": {},
   "outputs": [
    {
     "name": "stdout",
     "output_type": "stream",
     "text": [
      "Cargando creditos_final.csv en la tabla clean_creditos_final\n",
      "Cargando movies_final.csv en la tabla clean_movies_final\n",
      "Cargando movies_ml.csv en la tabla ml_movies_ml\n",
      "Todos los archivos han sido cargados en la base de datos.\n"
     ]
    }
   ],
   "source": [
    "import os\n",
    "import pandas as pd\n",
    "from sqlalchemy import create_engine\n",
    "\n",
    "# Crear una conexión a la base de datos\n",
    "engine = create_engine('sqlite:///movies_database.db')\n",
    "\n",
    "# Función para cargar un CSV en la base de datos\n",
    "def load_csv_to_db(file_path, table_name):\n",
    "    chunksize = 10000\n",
    "    for chunk in pd.read_csv(file_path, chunksize=chunksize):\n",
    "        chunk.to_sql(table_name, engine, if_exists='append', index=False)\n",
    "\n",
    "# Cargar archivos de CleanData\n",
    "clean_data_path = 'CleanData'\n",
    "for file in os.listdir(clean_data_path):\n",
    "    if file.endswith('.csv'):\n",
    "        file_path = os.path.join(clean_data_path, file)\n",
    "        table_name = f'clean_{os.path.splitext(file)[0]}'\n",
    "        print(f\"Cargando {file} en la tabla {table_name}\")\n",
    "        load_csv_to_db(file_path, table_name)\n",
    "\n",
    "# Cargar archivos de DataML\n",
    "data_ml_path = 'DataML'\n",
    "for file in os.listdir(data_ml_path):\n",
    "    if file.endswith('.csv'):\n",
    "        file_path = os.path.join(data_ml_path, file)\n",
    "        table_name = f'ml_{os.path.splitext(file)[0]}'\n",
    "        print(f\"Cargando {file} en la tabla {table_name}\")\n",
    "        load_csv_to_db(file_path, table_name)\n",
    "\n",
    "print(\"Todos los archivos han sido cargados en la base de datos.\")"
   ]
  },
  {
   "cell_type": "code",
   "execution_count": 2,
   "metadata": {},
   "outputs": [
    {
     "name": "stderr",
     "output_type": "stream",
     "text": [
      "C:\\Users\\quint\\AppData\\Local\\Temp\\ipykernel_34140\\3089754075.py:8: DtypeWarning: Columns (1) have mixed types. Specify dtype option on import or set low_memory=False.\n",
      "  df = pd.read_csv('CleanData/movies_final.csv')\n"
     ]
    },
    {
     "name": "stdout",
     "output_type": "stream",
     "text": [
      "Datos cargados en la base de datos.\n"
     ]
    }
   ],
   "source": [
    "import pandas as pd\n",
    "from sqlalchemy import create_engine\n",
    "\n",
    "# Crear una conexión a la base de datos\n",
    "engine = create_engine('sqlite:///movies_database.db')\n",
    "\n",
    "# Cargar los DataFrames y guardarlos en la base de datos\n",
    "df = pd.read_csv('CleanData/movies_final.csv')\n",
    "df.to_sql('movies_final', engine, if_exists='replace', index=False)\n",
    "\n",
    "df_c = pd.read_csv('CleanData/creditos_final.csv')\n",
    "df_c.to_sql('creditos_final', engine, if_exists='replace', index=False)\n",
    "\n",
    "df_highly_rated = pd.read_csv('DataML/movies_ml.csv')\n",
    "df_highly_rated.to_sql('movies_ml', engine, if_exists='replace', index=False)\n",
    "\n",
    "print(\"Datos cargados en la base de datos.\")"
   ]
  }
 ],
 "metadata": {
  "kernelspec": {
   "display_name": "Python 3",
   "language": "python",
   "name": "python3"
  },
  "language_info": {
   "codemirror_mode": {
    "name": "ipython",
    "version": 3
   },
   "file_extension": ".py",
   "mimetype": "text/x-python",
   "name": "python",
   "nbconvert_exporter": "python",
   "pygments_lexer": "ipython3",
   "version": "3.11.9"
  }
 },
 "nbformat": 4,
 "nbformat_minor": 2
}
