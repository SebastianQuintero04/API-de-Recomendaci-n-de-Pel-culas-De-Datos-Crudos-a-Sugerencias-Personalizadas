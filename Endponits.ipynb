{
 "cells": [
  {
   "cell_type": "code",
   "execution_count": 1,
   "metadata": {},
   "outputs": [],
   "source": [
    "import pandas as pd \n",
    "from datetime import datetime\n",
    "from collections import defaultdict\n",
    "from IPython.display import Markdown\n"
   ]
  },
  {
   "cell_type": "code",
   "execution_count": 2,
   "metadata": {},
   "outputs": [
    {
     "name": "stderr",
     "output_type": "stream",
     "text": [
      "C:\\Users\\quint\\AppData\\Local\\Temp\\ipykernel_1680\\2694058997.py:1: DtypeWarning: Columns (1) have mixed types. Specify dtype option on import or set low_memory=False.\n",
      "  df = pd.read_csv('CleanData\\movies_final.csv')\n"
     ]
    }
   ],
   "source": [
    "df = pd.read_csv('CleanData\\movies_final.csv')\n",
    "df_c = pd.read_csv('CleanData\\creditos_final.csv')"
   ]
  },
  {
   "cell_type": "code",
   "execution_count": 3,
   "metadata": {},
   "outputs": [],
   "source": [
    "# 1. Cantidad de filmaciones por mes\n",
    "def cantidad_filmaciones_mes(Mes):\n",
    "    meses = {'enero': 1, 'febrero': 2, 'marzo': 3, 'abril': 4, 'mayo': 5, 'junio': 6, \n",
    "             'julio': 7, 'agosto': 8, 'septiembre': 9, 'octubre': 10, 'noviembre': 11, 'diciembre': 12}\n",
    "    \n",
    "    df['release_date'] = pd.to_datetime(df['release_date'])\n",
    "    \n",
    "    peliculas_mes = df[df['release_date'].dt.month == meses[Mes.lower()]]\n",
    "    cantidad = len(peliculas_mes)\n",
    "    \n",
    "    return f\"Cantidad de películas fueron estrenadas en el mes de {Mes}: {cantidad}\""
   ]
  },
  {
   "cell_type": "code",
   "execution_count": 4,
   "metadata": {},
   "outputs": [
    {
     "data": {
      "text/plain": [
       "'Cantidad de películas fueron estrenadas en el mes de febrero: 2830'"
      ]
     },
     "execution_count": 4,
     "metadata": {},
     "output_type": "execute_result"
    }
   ],
   "source": [
    "cantidad_filmaciones_mes('febrero')\n"
   ]
  },
  {
   "cell_type": "code",
   "execution_count": 5,
   "metadata": {},
   "outputs": [],
   "source": [
    "# 2. Cantidad de filmaciones por día\n",
    "def cantidad_filmaciones_dia(Dia):\n",
    "    dias = {'lunes': 'Monday', 'martes': 'Tuesday', 'miercoles': 'Wednesday', \n",
    "            'jueves': 'Thursday', 'viernes': 'Friday', 'sabado': 'Saturday', 'domingo': 'Sunday'}\n",
    "    \n",
    "    df['release_date'] = pd.to_datetime(df['release_date'])\n",
    "    \n",
    "    peliculas_dia = df[df['release_date'].dt.day_name() == dias[Dia.lower()]]\n",
    "    cantidad = len(peliculas_dia)\n",
    "    \n",
    "    return f\"Cantidad de películas fueron estrenadas en los días {Dia}: {cantidad}\""
   ]
  },
  {
   "cell_type": "code",
   "execution_count": 6,
   "metadata": {},
   "outputs": [
    {
     "data": {
      "text/plain": [
       "'Cantidad de películas fueron estrenadas en los días jueves: 6911'"
      ]
     },
     "execution_count": 6,
     "metadata": {},
     "output_type": "execute_result"
    }
   ],
   "source": [
    "cantidad_filmaciones_dia('jueves')"
   ]
  },
  {
   "cell_type": "code",
   "execution_count": 7,
   "metadata": {},
   "outputs": [],
   "source": [
    "# 3. Score de una filmación\n",
    "def score_titulo(titulo_de_la_filmacion):\n",
    "    # Convertimos el título de búsqueda y los títulos del DataFrame a minúsculas\n",
    "    titulo_lower = titulo_de_la_filmacion.lower()\n",
    "    pelicula = df[df['title'].str.lower() == titulo_lower]\n",
    "    \n",
    "    if pelicula.empty:\n",
    "        return f\"No se encontró la película '{titulo_de_la_filmacion}'\"\n",
    "    \n",
    "    pelicula = pelicula.iloc[0]\n",
    "    return f\"La película {pelicula['title']} fue estrenada en el año {pd.to_datetime(pelicula['release_date']).year} con un score/popularidad de {pelicula['popularity']}\"\n"
   ]
  },
  {
   "cell_type": "code",
   "execution_count": 8,
   "metadata": {},
   "outputs": [
    {
     "data": {
      "text/plain": [
       "'La película Godzilla fue estrenada en el año 1998 con un score/popularidad de 11.295121'"
      ]
     },
     "execution_count": 8,
     "metadata": {},
     "output_type": "execute_result"
    }
   ],
   "source": [
    "score_titulo('godzilla')"
   ]
  },
  {
   "cell_type": "code",
   "execution_count": 9,
   "metadata": {},
   "outputs": [],
   "source": [
    "# 4. Votos de un título\n",
    "def votos_titulo(titulo_de_la_filmacion):\n",
    "    # Convertimos el título de búsqueda y los títulos del DataFrame a minúsculas\n",
    "    titulo_lower = titulo_de_la_filmacion.lower()\n",
    "    pelicula = df[df['title'].str.lower() == titulo_lower]\n",
    "    \n",
    "    if pelicula.empty:\n",
    "        return f\"No se encontró la película '{titulo_de_la_filmacion}'\"\n",
    "    \n",
    "    pelicula = pelicula.iloc[0]\n",
    "    if pelicula['vote_count'] >= 2000:\n",
    "        return f\"La película {pelicula['title']} fue estrenada en el año {pd.to_datetime(pelicula['release_date']).year}. La misma cuenta con un total de {pelicula['vote_count']} valoraciones, con un promedio de {pelicula['vote_average']}\"\n",
    "    else:\n",
    "        return f\"La película {pelicula['title']} no cumple con la condición de tener al menos 2000 valoraciones.\""
   ]
  },
  {
   "cell_type": "code",
   "execution_count": 10,
   "metadata": {},
   "outputs": [
    {
     "name": "stdout",
     "output_type": "stream",
     "text": [
      "2                   Grumpier Old Men\n",
      "3                  Waiting to Exhale\n",
      "4        Father of the Bride Part II\n",
      "5                               Heat\n",
      "6                            Sabrina\n",
      "                    ...             \n",
      "42192            The Burkittsville 7\n",
      "42193                Caged Heat 3000\n",
      "42194            Century of Birthing\n",
      "42195               Satan Triumphant\n",
      "42196                       Queerama\n",
      "Name: title, Length: 41726, dtype: object\n"
     ]
    }
   ],
   "source": [
    "# Seleccionar los títulos de las películas con 'vote_count' menor a 2000\n",
    "titulos_menor_2000 = df.loc[df['vote_count'] < 2000, 'title']\n",
    "\n",
    "# Mostrar los títulos seleccionados\n",
    "print(titulos_menor_2000)"
   ]
  },
  {
   "cell_type": "code",
   "execution_count": 11,
   "metadata": {},
   "outputs": [
    {
     "data": {
      "text/plain": [
       "'La película Toy Story fue estrenada en el año 1995. La misma cuenta con un total de 5415.0 valoraciones, con un promedio de 7.7'"
      ]
     },
     "execution_count": 11,
     "metadata": {},
     "output_type": "execute_result"
    }
   ],
   "source": [
    "votos_titulo('toy story')"
   ]
  },
  {
   "cell_type": "code",
   "execution_count": 12,
   "metadata": {},
   "outputs": [
    {
     "data": {
      "text/plain": [
       "'La película Betrayal no cumple con la condición de tener al menos 2000 valoraciones.'"
      ]
     },
     "execution_count": 12,
     "metadata": {},
     "output_type": "execute_result"
    }
   ],
   "source": [
    "votos_titulo('Betrayal')"
   ]
  },
  {
   "cell_type": "code",
   "execution_count": 13,
   "metadata": {},
   "outputs": [],
   "source": [
    "# 5. Éxito de un actor\n",
    "def get_actor(nombre_actor):\n",
    "    # Crear una máscara booleana\n",
    "    mask = df_c['cast'].str.contains(nombre_actor, case=False, na=False)\n",
    "    \n",
    "    # Filtrar las películas donde el actor ha participado\n",
    "    peliculas_actor = df.loc[mask]\n",
    "    \n",
    "    # Calcular estadísticas\n",
    "    cantidad_peliculas = len(peliculas_actor)\n",
    "    retorno_total = peliculas_actor['return'].sum()\n",
    "    retorno_promedio = retorno_total / cantidad_peliculas if cantidad_peliculas > 0 else 0\n",
    "    \n",
    "    # Preparar el mensaje de retorno\n",
    "    mensaje = f\"El actor {nombre_actor} ha participado de {cantidad_peliculas} cantidad de filmaciones, \"\n",
    "    mensaje += f\"el mismo ha conseguido un retorno de {retorno_total:.2f} \"\n",
    "    mensaje += f\"con un promedio de {retorno_promedio:.2f} por filmación\"\n",
    "    \n",
    "    return mensaje"
   ]
  },
  {
   "cell_type": "code",
   "execution_count": 14,
   "metadata": {},
   "outputs": [
    {
     "data": {
      "text/html": [
       "<div>\n",
       "<style scoped>\n",
       "    .dataframe tbody tr th:only-of-type {\n",
       "        vertical-align: middle;\n",
       "    }\n",
       "\n",
       "    .dataframe tbody tr th {\n",
       "        vertical-align: top;\n",
       "    }\n",
       "\n",
       "    .dataframe thead th {\n",
       "        text-align: right;\n",
       "    }\n",
       "</style>\n",
       "<table border=\"1\" class=\"dataframe\">\n",
       "  <thead>\n",
       "    <tr style=\"text-align: right;\">\n",
       "      <th></th>\n",
       "      <th>id</th>\n",
       "      <th>cast</th>\n",
       "      <th>directors</th>\n",
       "    </tr>\n",
       "  </thead>\n",
       "  <tbody>\n",
       "    <tr>\n",
       "      <th>0</th>\n",
       "      <td>862</td>\n",
       "      <td>Tom Hanks</td>\n",
       "      <td>John Lasseter</td>\n",
       "    </tr>\n",
       "    <tr>\n",
       "      <th>1</th>\n",
       "      <td>862</td>\n",
       "      <td>Tim Allen</td>\n",
       "      <td>John Lasseter</td>\n",
       "    </tr>\n",
       "    <tr>\n",
       "      <th>2</th>\n",
       "      <td>862</td>\n",
       "      <td>Don Rickles</td>\n",
       "      <td>John Lasseter</td>\n",
       "    </tr>\n",
       "    <tr>\n",
       "      <th>3</th>\n",
       "      <td>862</td>\n",
       "      <td>Jim Varney</td>\n",
       "      <td>John Lasseter</td>\n",
       "    </tr>\n",
       "    <tr>\n",
       "      <th>4</th>\n",
       "      <td>862</td>\n",
       "      <td>Wallace Shawn</td>\n",
       "      <td>John Lasseter</td>\n",
       "    </tr>\n",
       "  </tbody>\n",
       "</table>\n",
       "</div>"
      ],
      "text/plain": [
       "    id           cast      directors\n",
       "0  862      Tom Hanks  John Lasseter\n",
       "1  862      Tim Allen  John Lasseter\n",
       "2  862    Don Rickles  John Lasseter\n",
       "3  862     Jim Varney  John Lasseter\n",
       "4  862  Wallace Shawn  John Lasseter"
      ]
     },
     "execution_count": 14,
     "metadata": {},
     "output_type": "execute_result"
    }
   ],
   "source": [
    "df_c.head()"
   ]
  },
  {
   "cell_type": "code",
   "execution_count": 15,
   "metadata": {},
   "outputs": [
    {
     "data": {
      "text/plain": [
       "'El actor Tim Allen ha participado de 4 cantidad de filmaciones, el mismo ha conseguido un retorno de 4.04 con un promedio de 1.01 por filmación'"
      ]
     },
     "execution_count": 15,
     "metadata": {},
     "output_type": "execute_result"
    }
   ],
   "source": [
    "get_actor('Tim Allen')"
   ]
  },
  {
   "cell_type": "code",
   "execution_count": 16,
   "metadata": {},
   "outputs": [
    {
     "name": "stdout",
     "output_type": "stream",
     "text": [
      "Requirement already satisfied: markdown in c:\\users\\quint\\appdata\\local\\packages\\pythonsoftwarefoundation.python.3.11_qbz5n2kfra8p0\\localcache\\local-packages\\python311\\site-packages (3.6)\n",
      "Note: you may need to restart the kernel to use updated packages.\n"
     ]
    },
    {
     "name": "stderr",
     "output_type": "stream",
     "text": [
      "\n",
      "[notice] A new release of pip is available: 24.1 -> 24.1.2\n",
      "[notice] To update, run: C:\\Users\\quint\\AppData\\Local\\Microsoft\\WindowsApps\\PythonSoftwareFoundation.Python.3.11_qbz5n2kfra8p0\\python.exe -m pip install --upgrade pip\n"
     ]
    }
   ],
   "source": [
    "pip install markdown"
   ]
  },
  {
   "cell_type": "code",
   "execution_count": 17,
   "metadata": {},
   "outputs": [],
   "source": [
    "\n",
    "def get_director_info(nombre_director: str):\n",
    "    mask = df_c['directors'].str.contains(nombre_director, case=False, na=False)\n",
    "    peliculas_director = df.loc[mask]\n",
    "    \n",
    "    retorno_total = peliculas_director['return'].sum()\n",
    "    mensaje = f\"El director {nombre_director} ha conseguido un retorno total de {retorno_total:.2f}. Películas:\\n\\n\"\n",
    "    \n",
    "    peliculas_agrupadas = defaultdict(list)\n",
    "    for _, pelicula in peliculas_director.iterrows():\n",
    "        peliculas_agrupadas[pelicula['title']].append(pelicula)\n",
    "    \n",
    "    for titulo, peliculas in peliculas_agrupadas.items():\n",
    "        pelicula = peliculas[0]\n",
    "        mensaje += f\"- **{titulo}**:\\n\"\n",
    "        mensaje += f\"  * Fecha de lanzamiento: {pelicula['release_date']}\\n\"\n",
    "        mensaje += f\"  * Retorno: {pelicula['return']:.2f}\\n\"\n",
    "        mensaje += f\"  * Costo: {pelicula['budget']:.2f}\\n\"\n",
    "        mensaje += f\"  * Ganancia: {pelicula['revenue'] - pelicula['budget']:.2f}\\n\"\n",
    "        if len(peliculas) > 1:\n",
    "            mensaje += f\"  * Apariciones: {len(peliculas)}\\n\"\n",
    "        mensaje += \"\\n\"\n",
    "    \n",
    "    return Markdown(mensaje)"
   ]
  },
  {
   "cell_type": "code",
   "execution_count": 18,
   "metadata": {},
   "outputs": [
    {
     "data": {
      "text/markdown": [
       "El director John Lasseter ha conseguido un retorno total de 35.39. Películas:\n",
       "\n",
       "- **Toy Story**:\n",
       "  * Fecha de lanzamiento: 1995-10-30 00:00:00\n",
       "  * Retorno: 12.45\n",
       "  * Costo: 30000000.00\n",
       "  * Ganancia: 343554033.00\n",
       "\n",
       "- **Jumanji**:\n",
       "  * Fecha de lanzamiento: 1995-12-15 00:00:00\n",
       "  * Retorno: 4.04\n",
       "  * Costo: 65000000.00\n",
       "  * Ganancia: 197797249.00\n",
       "\n",
       "- **Grumpier Old Men**:\n",
       "  * Fecha de lanzamiento: 1995-12-22 00:00:00\n",
       "  * Retorno: 0.00\n",
       "  * Costo: 0.00\n",
       "  * Ganancia: 0.00\n",
       "\n",
       "- **Waiting to Exhale**:\n",
       "  * Fecha de lanzamiento: 1995-12-22 00:00:00\n",
       "  * Retorno: 5.09\n",
       "  * Costo: 16000000.00\n",
       "  * Ganancia: 65452156.00\n",
       "\n",
       "- **Father of the Bride Part II**:\n",
       "  * Fecha de lanzamiento: 1995-02-10 00:00:00\n",
       "  * Retorno: 0.00\n",
       "  * Costo: 0.00\n",
       "  * Ganancia: 76578911.00\n",
       "\n",
       "- **Heat**:\n",
       "  * Fecha de lanzamiento: 1995-12-15 00:00:00\n",
       "  * Retorno: 3.12\n",
       "  * Costo: 60000000.00\n",
       "  * Ganancia: 127436818.00\n",
       "\n",
       "- **Sabrina**:\n",
       "  * Fecha de lanzamiento: 1995-12-15 00:00:00\n",
       "  * Retorno: 0.00\n",
       "  * Costo: 58000000.00\n",
       "  * Ganancia: -58000000.00\n",
       "\n",
       "- **Tom and Huck**:\n",
       "  * Fecha de lanzamiento: 1995-12-22 00:00:00\n",
       "  * Retorno: 0.00\n",
       "  * Costo: 0.00\n",
       "  * Ganancia: 0.00\n",
       "\n",
       "- **Sudden Death**:\n",
       "  * Fecha de lanzamiento: 1995-12-22 00:00:00\n",
       "  * Retorno: 1.84\n",
       "  * Costo: 35000000.00\n",
       "  * Ganancia: 29350171.00\n",
       "\n",
       "- **GoldenEye**:\n",
       "  * Fecha de lanzamiento: 1995-11-16 00:00:00\n",
       "  * Retorno: 6.07\n",
       "  * Costo: 58000000.00\n",
       "  * Ganancia: 294194034.00\n",
       "\n",
       "- **The American President**:\n",
       "  * Fecha de lanzamiento: 1995-11-17 00:00:00\n",
       "  * Retorno: 1.74\n",
       "  * Costo: 62000000.00\n",
       "  * Ganancia: 45879496.00\n",
       "\n",
       "- **Dracula: Dead and Loving It**:\n",
       "  * Fecha de lanzamiento: 1995-12-22 00:00:00\n",
       "  * Retorno: 0.00\n",
       "  * Costo: 0.00\n",
       "  * Ganancia: 0.00\n",
       "\n",
       "- **Balto**:\n",
       "  * Fecha de lanzamiento: 1995-12-22 00:00:00\n",
       "  * Retorno: 0.00\n",
       "  * Costo: 0.00\n",
       "  * Ganancia: 11348324.00\n",
       "\n",
       "- **Wolfskinder**:\n",
       "  * Fecha de lanzamiento: 2013-08-28 00:00:00\n",
       "  * Retorno: 0.00\n",
       "  * Costo: 0.00\n",
       "  * Ganancia: 0.00\n",
       "\n",
       "- **Len and Company**:\n",
       "  * Fecha de lanzamiento: 2015-09-11 00:00:00\n",
       "  * Retorno: 0.00\n",
       "  * Costo: 0.00\n",
       "  * Ganancia: 0.00\n",
       "\n",
       "- **Bleed for This**:\n",
       "  * Fecha de lanzamiento: 2016-11-04 00:00:00\n",
       "  * Retorno: 1.03\n",
       "  * Costo: 6000000.00\n",
       "  * Ganancia: 174491.00\n",
       "\n",
       "- **The Deadly Duo**:\n",
       "  * Fecha de lanzamiento: 1971-12-22 00:00:00\n",
       "  * Retorno: 0.00\n",
       "  * Costo: 0.00\n",
       "  * Ganancia: 0.00\n",
       "\n",
       "- **Norman Television**:\n",
       "  * Fecha de lanzamiento: 2016-12-06 00:00:00\n",
       "  * Retorno: 0.00\n",
       "  * Costo: 0.00\n",
       "  * Ganancia: 0.00\n",
       "\n",
       "- **Çöpçüler Kralı**:\n",
       "  * Fecha de lanzamiento: 1977-08-09 00:00:00\n",
       "  * Retorno: 0.00\n",
       "  * Costo: 0.00\n",
       "  * Ganancia: 0.00\n",
       "\n",
       "- **Snowed Under**:\n",
       "  * Fecha de lanzamiento: 1936-04-04 00:00:00\n",
       "  * Retorno: 0.00\n",
       "  * Costo: 0.00\n",
       "  * Ganancia: 0.00\n",
       "\n",
       "- **Fisherman's Wharf**:\n",
       "  * Fecha de lanzamiento: 1939-02-03 00:00:00\n",
       "  * Retorno: 0.00\n",
       "  * Costo: 0.00\n",
       "  * Ganancia: 0.00\n",
       "\n",
       "- **If I Were You 2**:\n",
       "  * Fecha de lanzamiento: 2009-02-01 00:00:00\n",
       "  * Retorno: 0.00\n",
       "  * Costo: 0.00\n",
       "  * Ganancia: 0.00\n",
       "\n",
       "- **Electrocuting an Elephant**:\n",
       "  * Fecha de lanzamiento: 1903-01-12 00:00:00\n",
       "  * Retorno: 0.00\n",
       "  * Costo: 0.00\n",
       "  * Ganancia: 0.00\n",
       "\n",
       "- **Vai Que Dá Certo**:\n",
       "  * Fecha de lanzamiento: 2013-03-22 00:00:00\n",
       "  * Retorno: 0.00\n",
       "  * Costo: 1000000.00\n",
       "  * Ganancia: -1000000.00\n",
       "\n",
       "- **Perry Mason Returns**:\n",
       "  * Fecha de lanzamiento: 1985-12-01 00:00:00\n",
       "  * Retorno: 0.00\n",
       "  * Costo: 0.00\n",
       "  * Ganancia: 0.00\n",
       "\n",
       "- **Rainbow Time**:\n",
       "  * Fecha de lanzamiento: 2016-03-14 00:00:00\n",
       "  * Retorno: 0.00\n",
       "  * Costo: 0.00\n",
       "  * Ganancia: 0.00\n",
       "\n",
       "- **The Free World**:\n",
       "  * Fecha de lanzamiento: 2016-09-23 00:00:00\n",
       "  * Retorno: 0.00\n",
       "  * Costo: 0.00\n",
       "  * Ganancia: 0.00\n",
       "\n",
       "- **The Exclusive : Beat the Devil's Tattoo**:\n",
       "  * Fecha de lanzamiento: 2015-10-22 00:00:00\n",
       "  * Retorno: 0.00\n",
       "  * Costo: 0.00\n",
       "  * Ganancia: 0.00\n",
       "\n",
       "- **Tri Bogatyrya na Dalnikh Beregakh**:\n",
       "  * Fecha de lanzamiento: 2012-12-27 00:00:00\n",
       "  * Retorno: 0.00\n",
       "  * Costo: 0.00\n",
       "  * Ganancia: 0.00\n",
       "\n"
      ],
      "text/plain": [
       "<IPython.core.display.Markdown object>"
      ]
     },
     "execution_count": 18,
     "metadata": {},
     "output_type": "execute_result"
    }
   ],
   "source": [
    "get_director_info('John Lasseter')"
   ]
  },
  {
   "cell_type": "code",
   "execution_count": null,
   "metadata": {},
   "outputs": [],
   "source": []
  }
 ],
 "metadata": {
  "kernelspec": {
   "display_name": "Python 3",
   "language": "python",
   "name": "python3"
  },
  "language_info": {
   "codemirror_mode": {
    "name": "ipython",
    "version": 3
   },
   "file_extension": ".py",
   "mimetype": "text/x-python",
   "name": "python",
   "nbconvert_exporter": "python",
   "pygments_lexer": "ipython3",
   "version": "3.11.9"
  }
 },
 "nbformat": 4,
 "nbformat_minor": 2
}
